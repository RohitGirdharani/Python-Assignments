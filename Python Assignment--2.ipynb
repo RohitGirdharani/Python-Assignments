{
 "cells": [
  {
   "cell_type": "code",
   "execution_count": 1,
   "metadata": {},
   "outputs": [
    {
     "name": "stdout",
     "output_type": "stream",
     "text": [
      "Enter marks of the first subject: 12\n",
      "Enter marks of the second subject: 34\n",
      "Enter marks of the third subject: 54\n",
      "Enter marks of the fourth subject: 56\n",
      "Enter marks of the fifth subject: 76\n",
      "Marks in subject 1:  12\n",
      "Marks in subject 2:  34\n",
      "Marks in subject 3:  54\n",
      "Marks in subject 4:  56\n",
      "Marks in subject 5:  76\n",
      "Total Marks:  232\n",
      "Average Marks:  46.4\n",
      "Grade F\n"
     ]
    }
   ],
   "source": [
    "subject1=int(input(\"Enter marks of the first subject: \"))\n",
    "subject2=int(input(\"Enter marks of the second subject: \"))\n",
    "subject3= int(input(\"Enter marks of the third subject: \"))\n",
    "subject4=int(input(\"Enter marks of the fourth subject: \"))\n",
    "subject5=int(input(\"Enter marks of the fifth subject: \"))\n",
    "\n",
    "Total=(subject1+subject2+subject3+subject4+subject5)\n",
    "Average=float(Total/5)\n",
    "print(\"Marks in subject 1: \" ,subject1)\n",
    "print(\"Marks in subject 2: \" ,subject2)\n",
    "print(\"Marks in subject 3: \" ,subject3)\n",
    "print(\"Marks in subject 4: \" ,subject4)\n",
    "print(\"Marks in subject 5: \" ,subject5)\n",
    "\n",
    "\n",
    "print(\"Total Marks: \", Total)\n",
    "print(\"Average Marks: \", Average)\n",
    "\n",
    "if(Average>=90):\n",
    " print(\"Grade A\")\n",
    "elif (Average>=80 and Average < 90):\n",
    "    print(\"Grade B\")\n",
    "elif(Average>=70 and Average <80):\n",
    "    print(\"Grade C\")\n",
    "elif(Average>=60 and  Average <70):\n",
    "    print(\"Grade D\")\n",
    "else:\n",
    "    print(\"Grade F\")\n"
   ]
  },
  {
   "cell_type": "code",
   "execution_count": 2,
   "metadata": {},
   "outputs": [
    {
     "name": "stdout",
     "output_type": "stream",
     "text": [
      "Enter the number: 45\n",
      "Number is Odd.\n"
     ]
    }
   ],
   "source": [
    "number= int(input(\"Enter the number: \"))\n",
    "mod=number%2\n",
    "if(mod==0):\n",
    "    print(\"Number is Even.\")\n",
    "else:\n",
    "    print(\"Number is Odd.\")"
   ]
  },
  {
   "cell_type": "code",
   "execution_count": 3,
   "metadata": {},
   "outputs": [
    {
     "name": "stdout",
     "output_type": "stream",
     "text": [
      "The length of the list is:  5\n"
     ]
    }
   ],
   "source": [
    "array= [10,20,30,40,50]\n",
    "length= len(array)\n",
    "print(\"The length of the list is: \",length)\n"
   ]
  },
  {
   "cell_type": "code",
   "execution_count": 4,
   "metadata": {},
   "outputs": [
    {
     "name": "stdout",
     "output_type": "stream",
     "text": [
      "280\n"
     ]
    }
   ],
   "source": [
    "array= [10,20,30,40,50,60,70]\n",
    "Sum=sum(array)\n",
    "print(Sum)\n"
   ]
  },
  {
   "cell_type": "code",
   "execution_count": 5,
   "metadata": {},
   "outputs": [
    {
     "name": "stdout",
     "output_type": "stream",
     "text": [
      "70\n"
     ]
    }
   ],
   "source": [
    "array= [10,20,30,40,50,60,70]\n",
    "maximum=max(array)\n",
    "print(maximum)\n"
   ]
  },
  {
   "cell_type": "code",
   "execution_count": 6,
   "metadata": {},
   "outputs": [
    {
     "name": "stdout",
     "output_type": "stream",
     "text": [
      "1\n",
      "1\n",
      "2\n",
      "3\n"
     ]
    }
   ],
   "source": [
    "array = [1, 1, 2, 3, 5, 8, 13, 21, 34, 55, 89]\n",
    "\n",
    "for i in array:\n",
    "    if i<5:\n",
    "        print(i)"
   ]
  },
  {
   "cell_type": "code",
   "execution_count": null,
   "metadata": {},
   "outputs": [],
   "source": []
  }
 ],
 "metadata": {
  "kernelspec": {
   "display_name": "Python 3",
   "language": "python",
   "name": "python3"
  },
  "language_info": {
   "codemirror_mode": {
    "name": "ipython",
    "version": 3
   },
   "file_extension": ".py",
   "mimetype": "text/x-python",
   "name": "python",
   "nbconvert_exporter": "python",
   "pygments_lexer": "ipython3",
   "version": "3.7.4"
  }
 },
 "nbformat": 4,
 "nbformat_minor": 2
}
