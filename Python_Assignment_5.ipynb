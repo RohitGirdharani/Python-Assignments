{
 "cells": [
  {
   "cell_type": "code",
   "execution_count": 1,
   "metadata": {},
   "outputs": [
    {
     "name": "stdout",
     "output_type": "stream",
     "text": [
      "Enter Value to Find Factorial:5\n",
      "Factorial of  5 = 120\n"
     ]
    }
   ],
   "source": [
    "Number = input(\"Enter Value to Find Factorial:\");\n",
    "Number = int(Number);\n",
    "def FindFactorial(Number):\n",
    "    Count=1;\n",
    "    if Number<1:\n",
    "        print(\"please enter value that is greater then one\");\n",
    "    elif Number>=1:\n",
    "        for i in range(1,Number+1):\n",
    "            Count=Count*i;\n",
    "        print(\"Factorial of \", Number , \"=\", Count);\n",
    "    else:\n",
    "        print(\"Value is Invalide\");\n",
    "FindFactorial(Number);"
   ]
  },
  {
   "cell_type": "code",
   "execution_count": 2,
   "metadata": {},
   "outputs": [
    {
     "name": "stdout",
     "output_type": "stream",
     "text": [
      "Enter String:RohiT\n",
      "Upper case 2\n",
      "Lower case 3\n"
     ]
    }
   ],
   "source": [
    "def CountUpperLower(string):\n",
    "    upper=0;\n",
    "    lower=0;\n",
    "    for i in string:\n",
    "        if i>=\"A\" and i<=\"Z\":\n",
    "            upper +=1;\n",
    "        elif i>=\"a\" and i<=\"z\":\n",
    "            lower +=1;\n",
    "    print(\"Upper case\",upper);\n",
    "    print(\"Lower case\", lower);\n",
    "\n",
    "string = input(\"Enter String:\");\n",
    "CountUpperLower(string);\n"
   ]
  },
  {
   "cell_type": "code",
   "execution_count": 4,
   "metadata": {},
   "outputs": [
    {
     "name": "stdout",
     "output_type": "stream",
     "text": [
      "Enter number of range you want to enter4\n",
      "1\n",
      "2\n",
      "3\n",
      "4\n",
      "2, 4, "
     ]
    }
   ],
   "source": [
    "List = [];\n",
    "Input = int(input(\"Enter number of range you want to enter\"));\n",
    "for i in range(0, Input):\n",
    "    number= int(input());\n",
    "    List.append(number)\n",
    "#print(List);\n",
    "def EvenNum(List):\n",
    "    for number in List:\n",
    "        if number % 2==0:  \n",
    "            print(number, end =\", \");\n",
    "EvenNum(List);"
   ]
  },
  {
   "cell_type": "code",
   "execution_count": 6,
   "metadata": {},
   "outputs": [
    {
     "name": "stdout",
     "output_type": "stream",
     "text": [
      "Enter Any String To Check If Its a Palindrome or Not :rohit\n",
      "rohit is Not Palindrome\n"
     ]
    }
   ],
   "source": [
    "string = input(\"Enter Any String To Check If Its a Palindrome or Not :\");\n",
    "covlower = string.lower();\n",
    "\n",
    "def isPalindrome(string): \n",
    "    # Calling reverse function \n",
    "    rev = string[::-1] \n",
    "  \n",
    "    # Checking if both string are equal or not \n",
    "    if (string == rev): \n",
    "        print(string + \" is Palindrome\")\n",
    "    else:\n",
    "        print(string + \" is Not Palindrome\")\n",
    "    \n",
    "isPalindrome(covlower)"
   ]
  },
  {
   "cell_type": "code",
   "execution_count": 7,
   "metadata": {},
   "outputs": [
    {
     "name": "stdout",
     "output_type": "stream",
     "text": [
      "Enter a number : 7\n",
      "7 is a prime number\n"
     ]
    }
   ],
   "source": [
    "Number = int(input(\"Enter a number : \"))  \n",
    "def CheckPrime(Number):\n",
    "    if Number > 1:\n",
    "        for i in range(2,Number):\n",
    "            if (Number % i) == 0:\n",
    "                print(Number,\"is not a prime number\")\n",
    "                break\n",
    "            else:\n",
    "                print(Number,\"is a prime number\") \n",
    "                break\n",
    "    else:\n",
    "        print(Number,\"is not a prime number\") \n",
    "        \n",
    "CheckPrime(Number)"
   ]
  },
  {
   "cell_type": "code",
   "execution_count": 8,
   "metadata": {},
   "outputs": [
    {
     "name": "stdout",
     "output_type": "stream",
     "text": [
      "Enter Shopping item (exit to print Final List): lays\n",
      "Enter Shopping item (exit to print Final List): kitkat\n",
      "Enter Shopping item (exit to print Final List): exit\n",
      "You purchased: lays\n",
      "You purchased: kitkat\n"
     ]
    }
   ],
   "source": [
    "def shoppingList(*items):\n",
    "    shoppingItems = []\n",
    "    while True:\n",
    "        item = input(\"Enter Shopping item (exit to print Final List): \")\n",
    "        if item != 'exit':\n",
    "            shoppingItems.append(item)\n",
    "        else:\n",
    "            break\n",
    "    for item in range(len(shoppingItems)):\n",
    "        print(\"You purchased: {}\".format(shoppingItems[item]))\n",
    "shoppingList()"
   ]
  },
  {
   "cell_type": "code",
   "execution_count": null,
   "metadata": {},
   "outputs": [],
   "source": []
  }
 ],
 "metadata": {
  "kernelspec": {
   "display_name": "Python 3",
   "language": "python",
   "name": "python3"
  },
  "language_info": {
   "codemirror_mode": {
    "name": "ipython",
    "version": 3
   },
   "file_extension": ".py",
   "mimetype": "text/x-python",
   "name": "python",
   "nbconvert_exporter": "python",
   "pygments_lexer": "ipython3",
   "version": "3.7.4"
  }
 },
 "nbformat": 4,
 "nbformat_minor": 2
}
